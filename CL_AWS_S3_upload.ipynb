{
 "cells": [
  {
   "cell_type": "markdown",
   "id": "2ad59cde-3406-466a-9682-d692224a612c",
   "metadata": {},
   "source": [
    "<center>\n",
    "<img src=\"https://laelgelcpublic.s3.sa-east-1.amazonaws.com/lael_50_years_narrow_white.png.no_years.400px_96dpi.png\" width=\"300\" alt=\"LAEL 50 years logo\">\n",
    "<h3>APPLIED LINGUISTICS GRADUATE PROGRAMME (LAEL)</h3>\n",
    "</center>\n",
    "<hr>"
   ]
  },
  {
   "cell_type": "markdown",
   "id": "5577bc20-e9f8-48f4-a715-081ad8d67c6a",
   "metadata": {},
   "source": [
    "# Programme to upload archives to Amazon S3"
   ]
  },
  {
   "cell_type": "markdown",
   "id": "756a91c9-31a8-4ac8-a6d3-8cdddd2baf26",
   "metadata": {},
   "source": [
    "## Prerequisites"
   ]
  },
  {
   "cell_type": "markdown",
   "id": "ec25b133-4f16-4c15-b8d2-e040ec11e504",
   "metadata": {},
   "source": [
    "### Environment variables"
   ]
  },
  {
   "cell_type": "markdown",
   "id": "63d184c1-c7d2-499c-a51e-b25b6216ab53",
   "metadata": {},
   "source": [
    "AWS credentials and other parameters should be stored in the `.env` file."
   ]
  },
  {
   "cell_type": "code",
   "execution_count": null,
   "id": "ea79a666-dc7f-465d-a8ab-282918726eaa",
   "metadata": {},
   "outputs": [],
   "source": [
    "AWS_ACCESS_KEY_ID=<YOUR_ACCESS_KEY_ID>\n",
    "AWS_SECRET_ACCESS_KEY=<YOUR_SECRET_ACCESS_KEY>\n",
    "REGION_NAME=<YOUR_REGION_NAME>\n",
    "DESTINATION_BUCKET_NAME=<YOUR_DESTINATION_BUCKET_NAME>\n",
    "INPUT_DIRECTORY=<INPUT_DIRECTORY>"
   ]
  },
  {
   "cell_type": "markdown",
   "id": "0483e25e-7c2e-4266-8cfc-21b0d76d22b7",
   "metadata": {},
   "source": [
    "### Required libraries"
   ]
  },
  {
   "cell_type": "markdown",
   "id": "3d4de9ff-d5d5-4d32-b2ec-6dfaeea74cd7",
   "metadata": {},
   "source": [
    "The required libraries are going to be stored in the `unarchive.req` file.\n",
    "- Create the environment `my_env` with the command: `python3 -m venv my_env`\n",
    "- Activate the `my_env`: `cd my_env && source bin/activate`\n",
    "- The following command should be executed: `pip install -r unarchive.req`"
   ]
  },
  {
   "cell_type": "markdown",
   "id": "bbfe3b39-a2fb-4f03-b22a-f9d06c073ff6",
   "metadata": {},
   "source": [
    "#### Contents of `env.req`"
   ]
  },
  {
   "cell_type": "code",
   "execution_count": null,
   "id": "c87bfd18-8a7c-45ce-b488-d3682fe3b1d6",
   "metadata": {},
   "outputs": [],
   "source": [
    "python-dotenv\n",
    "boto3"
   ]
  },
  {
   "cell_type": "markdown",
   "id": "831f3c64-b560-403d-8013-5d83534eb0a0",
   "metadata": {},
   "source": [
    "### Execution in the background"
   ]
  },
  {
   "cell_type": "code",
   "execution_count": null,
   "id": "60a30585-b0b7-4895-951a-7dafd1dbe9fc",
   "metadata": {},
   "outputs": [],
   "source": [
    "nohup python -u upload.py &"
   ]
  },
  {
   "cell_type": "markdown",
   "id": "c6e0190d-cac2-4990-a5c1-5cf70d1dea1e",
   "metadata": {},
   "source": [
    "## Code of `upload.py`"
   ]
  },
  {
   "cell_type": "code",
   "execution_count": null,
   "id": "ebbab5c4-cef3-4f2a-9395-80e1f32b5c59",
   "metadata": {
    "tags": []
   },
   "outputs": [],
   "source": [
    "# Edit the file '.env' and provide the required parameters\n",
    "# Install the required libraries in the environment by executing: 'pip install -r env.req'\n",
    "\n",
    "# Importing the required libraries\n",
    "from dotenv import load_dotenv\n",
    "import boto3\n",
    "import os\n",
    "import datetime\n",
    "\n",
    "load_dotenv()  # This line brings all environment variables from '.env' into 'os.environ'\n",
    "\n",
    "# Set up AWS credentials\n",
    "aws_access_key_id = os.environ['AWS_ACCESS_KEY_ID']\n",
    "aws_secret_access_key = os.environ['AWS_SECRET_ACCESS_KEY']\n",
    "region_name = os.environ['REGION_NAME']\n",
    "\n",
    "# Set up S3 client\n",
    "s3 = boto3.client('s3', aws_access_key_id=aws_access_key_id, aws_secret_access_key=aws_secret_access_key, region_name=region_name)\n",
    "\n",
    "# Set up the source and destination S3 bucket names\n",
    "destination_bucket_name = os.environ['DESTINATION_BUCKET_NAME']\n",
    "\n",
    "# Define the name of the directory where the downloaded files will be stored\n",
    "input_directory = os.environ['INPUT_DIRECTORY']\n",
    "\n",
    "# Recursively upload files to S3\n",
    "for root, dirs, files in os.walk(input_directory):\n",
    "    for file in files:\n",
    "        timestamp = datetime.datetime.now().strftime('%Y-%m-%d %H:%M:%S')\n",
    "        print(timestamp, ': Uploading ' + file)\n",
    "        local_path = os.path.join(root, file)\n",
    "        s3_path = os.path.relpath(local_path, input_directory)\n",
    "        s3.upload_file(local_path, destination_bucket_name, s3_path)\n",
    "        timestamp = datetime.datetime.now().strftime('%Y-%m-%d %H:%M:%S')\n",
    "        print(timestamp, ':', file, 'transferred')\n"
   ]
  }
 ],
 "metadata": {
  "kernelspec": {
   "display_name": "Python 3 (ipykernel)",
   "language": "python",
   "name": "python3"
  },
  "language_info": {
   "codemirror_mode": {
    "name": "ipython",
    "version": 3
   },
   "file_extension": ".py",
   "mimetype": "text/x-python",
   "name": "python",
   "nbconvert_exporter": "python",
   "pygments_lexer": "ipython3",
   "version": "3.11.8"
  }
 },
 "nbformat": 4,
 "nbformat_minor": 5
}
